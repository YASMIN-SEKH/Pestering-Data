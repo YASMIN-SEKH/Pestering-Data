{
 "cells": [
  {
   "cell_type": "markdown",
   "id": "08d86d44-eed0-4796-86bd-ebee717c4bb3",
   "metadata": {},
   "source": [
    "# Jupyter Notebook\n"
   ]
  },
  {
   "cell_type": "code",
   "execution_count": null,
   "id": "d8fdf601-7b15-41ba-80b3-f0f5262cba84",
   "metadata": {},
   "outputs": [],
   "source": [
    "print(\"Yasmin Sekh\")\n",
    "\n"
   ]
  },
  {
   "cell_type": "code",
   "execution_count": null,
   "id": "9980fdb3-a99e-4216-ab0e-5965cafbdc01",
   "metadata": {},
   "outputs": [],
   "source": [
    "print(\"CE20233008 not from iiita\")\n"
   ]
  }
 ],
 "metadata": {
  "kernelspec": {
   "display_name": "Python 3 (ipykernel)",
   "language": "python",
   "name": "python3"
  },
  "language_info": {
   "codemirror_mode": {
    "name": "ipython",
    "version": 3
   },
   "file_extension": ".py",
   "mimetype": "text/x-python",
   "name": "python",
   "nbconvert_exporter": "python",
   "pygments_lexer": "ipython3",
   "version": "3.12.3"
  }
 },
 "nbformat": 4,
 "nbformat_minor": 5
}
